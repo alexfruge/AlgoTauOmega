{
 "cells": [
  {
   "cell_type": "code",
   "execution_count": null,
   "metadata": {},
   "outputs": [],
   "source": [
    "import networkx as nx\n",
    "import matplotlib.pyplot as plt\n",
    "import fileinput\n",
    "import numpy as np"
   ]
  },
  {
   "cell_type": "code",
   "execution_count": null,
   "metadata": {},
   "outputs": [],
   "source": [
    "from collections import Counter\n",
    "# this loop finds the element in the most cycles in the graph, and removes it until there are\n",
    "# no more cycles\n",
    "def remove_from_most_cycles(G):\n",
    "    nodes_removed = []\n",
    "    while True:\n",
    "        breakLoop = True\n",
    "        cycles = nx.simple_cycles(G)\n",
    "        cycleList = []\n",
    "        for l in cycles:\n",
    "            cycleList.append(l)\n",
    "            breakLoop=False\n",
    "        if breakLoop:\n",
    "            break\n",
    "        flattened_list = [item for sublist in cycleList for item in sublist]\n",
    "        counter = Counter(flattened_list)\n",
    "        most_common_element, count = counter.most_common(1)[0]\n",
    "        nodes_removed.append(most_common_element)\n",
    "        G.remove_node(most_common_element)\n",
    "    return nodes_removed\n",
    "\n",
    "# finds and returns the node with the highest \"closeness centrality\"\n",
    "def get_most_close_node(G):\n",
    "    nodes = G.nodes\n",
    "    max_centrality = -1*np.inf\n",
    "    most_central_node = None\n",
    "    for n in nodes:\n",
    "        clos_centr = nx.closeness_centrality(G, n)\n",
    "        if clos_centr > max_centrality:\n",
    "            max_centrality = clos_centr\n",
    "            most_central_node = n\n",
    "    return most_central_node\n",
    "\n",
    "# finds and returns the node with the highest \"betweenness centrality\"\n",
    "def get_most_between_node(G):\n",
    "    centralities = nx.betweenness_centrality(G)\n",
    "    max_value = max(centralities, key=centralities.get)\n",
    "    return max_value\n"
   ]
  },
  {
   "cell_type": "code",
   "execution_count": null,
   "metadata": {},
   "outputs": [],
   "source": [
    "def generate_output(nodes_removed):\n",
    "    f = open(\"output.txt\", \"w\")\n",
    "    f.write(f\"{len(nodes_removed)}\\n\")\n",
    "    nodes_rem = [str(x) for x in nodes_removed]\n",
    "    f.write(\" \".join(nodes_rem))"
   ]
  },
  {
   "cell_type": "code",
   "execution_count": null,
   "metadata": {},
   "outputs": [],
   "source": [
    "lines = []\n",
    "fileName = \"tyson.txt\"\n",
    "G = nx.DiGraph()\n",
    "for line in fileinput.input(files=fileName, encoding=\"utf-8\"):\n",
    "    lines.append(line.replace(\"\\n\", \"\").split(\" \"))\n",
    "nodeCnt = int(lines[0][0])\n",
    "for i in range(nodeCnt):\n",
    "    G.add_node(i+1)\n",
    "for i in range(1, nodeCnt+1):\n",
    "    for start in lines[i][1:]:\n",
    "        if start != '':\n",
    "            G.add_edge(int(start), i)"
   ]
  },
  {
   "cell_type": "code",
   "execution_count": null,
   "metadata": {},
   "outputs": [],
   "source": [
    "nx.draw(G, with_labels=True)\n",
    "plt.title(\"Graph before removal is ran\")"
   ]
  },
  {
   "cell_type": "code",
   "execution_count": null,
   "metadata": {},
   "outputs": [],
   "source": [
    "nodes_removed = remove_from_most_cycles(G)\n",
    "print(nodes_removed)\n",
    "nx.draw(G, with_labels=True)\n",
    "plt.title(\"Graph after removal is ran\")"
   ]
  },
  {
   "cell_type": "code",
   "execution_count": null,
   "metadata": {},
   "outputs": [],
   "source": [
    "generate_output(nodes_removed)"
   ]
  }
 ],
 "metadata": {
  "kernelspec": {
   "display_name": "Python 3",
   "language": "python",
   "name": "python3"
  },
  "language_info": {
   "codemirror_mode": {
    "name": "ipython",
    "version": 3
   },
   "file_extension": ".py",
   "mimetype": "text/x-python",
   "name": "python",
   "nbconvert_exporter": "python",
   "pygments_lexer": "ipython3",
   "version": "3.11.6"
  }
 },
 "nbformat": 4,
 "nbformat_minor": 2
}
